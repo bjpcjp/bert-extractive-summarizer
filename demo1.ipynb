{
 "cells": [
  {
   "cell_type": "code",
   "execution_count": 12,
   "id": "ef6064b9-e76b-406b-96a0-4e6a516af1a9",
   "metadata": {},
   "outputs": [
    {
     "name": "stdout",
     "output_type": "stream",
     "text": [
      "Defaulting to user installation because normal site-packages is not writeable\n",
      "Requirement already satisfied: bert-extractive-summarizer in /home/bjpcjp/.local/lib/python3.11/site-packages (0.10.1)\n",
      "Requirement already satisfied: transformers in /home/bjpcjp/.local/lib/python3.11/site-packages (from bert-extractive-summarizer) (4.38.2)\n",
      "Requirement already satisfied: scikit-learn in /home/bjpcjp/.local/lib/python3.11/site-packages (from bert-extractive-summarizer) (1.3.2)\n",
      "Requirement already satisfied: spacy in /home/bjpcjp/.local/lib/python3.11/site-packages (from bert-extractive-summarizer) (3.7.2)\n",
      "Requirement already satisfied: numpy<2.0,>=1.17.3 in /usr/lib/python3/dist-packages (from scikit-learn->bert-extractive-summarizer) (1.24.2)\n",
      "Requirement already satisfied: scipy>=1.5.0 in /usr/lib/python3/dist-packages (from scikit-learn->bert-extractive-summarizer) (1.10.1)\n",
      "Requirement already satisfied: joblib>=1.1.1 in /usr/lib/python3/dist-packages (from scikit-learn->bert-extractive-summarizer) (1.2.0)\n",
      "Requirement already satisfied: threadpoolctl>=2.0.0 in /usr/lib/python3/dist-packages (from scikit-learn->bert-extractive-summarizer) (3.1.0)\n",
      "Requirement already satisfied: spacy-legacy<3.1.0,>=3.0.11 in /home/bjpcjp/.local/lib/python3.11/site-packages (from spacy->bert-extractive-summarizer) (3.0.12)\n",
      "Requirement already satisfied: spacy-loggers<2.0.0,>=1.0.0 in /home/bjpcjp/.local/lib/python3.11/site-packages (from spacy->bert-extractive-summarizer) (1.0.5)\n",
      "Requirement already satisfied: murmurhash<1.1.0,>=0.28.0 in /home/bjpcjp/.local/lib/python3.11/site-packages (from spacy->bert-extractive-summarizer) (1.0.10)\n",
      "Requirement already satisfied: cymem<2.1.0,>=2.0.2 in /home/bjpcjp/.local/lib/python3.11/site-packages (from spacy->bert-extractive-summarizer) (2.0.8)\n",
      "Requirement already satisfied: preshed<3.1.0,>=3.0.2 in /home/bjpcjp/.local/lib/python3.11/site-packages (from spacy->bert-extractive-summarizer) (3.0.9)\n",
      "Requirement already satisfied: thinc<8.3.0,>=8.1.8 in /home/bjpcjp/.local/lib/python3.11/site-packages (from spacy->bert-extractive-summarizer) (8.2.1)\n",
      "Requirement already satisfied: wasabi<1.2.0,>=0.9.1 in /home/bjpcjp/.local/lib/python3.11/site-packages (from spacy->bert-extractive-summarizer) (1.1.2)\n",
      "Requirement already satisfied: srsly<3.0.0,>=2.4.3 in /home/bjpcjp/.local/lib/python3.11/site-packages (from spacy->bert-extractive-summarizer) (2.4.8)\n",
      "Requirement already satisfied: catalogue<2.1.0,>=2.0.6 in /home/bjpcjp/.local/lib/python3.11/site-packages (from spacy->bert-extractive-summarizer) (2.0.10)\n",
      "Requirement already satisfied: weasel<0.4.0,>=0.1.0 in /home/bjpcjp/.local/lib/python3.11/site-packages (from spacy->bert-extractive-summarizer) (0.3.4)\n",
      "Requirement already satisfied: typer<0.10.0,>=0.3.0 in /home/bjpcjp/.local/lib/python3.11/site-packages (from spacy->bert-extractive-summarizer) (0.9.0)\n",
      "Requirement already satisfied: smart-open<7.0.0,>=5.2.1 in /home/bjpcjp/.local/lib/python3.11/site-packages (from spacy->bert-extractive-summarizer) (6.4.0)\n",
      "Requirement already satisfied: tqdm<5.0.0,>=4.38.0 in /usr/lib/python3/dist-packages (from spacy->bert-extractive-summarizer) (4.64.1)\n",
      "Requirement already satisfied: requests<3.0.0,>=2.13.0 in /home/bjpcjp/.local/lib/python3.11/site-packages (from spacy->bert-extractive-summarizer) (2.31.0)\n",
      "Requirement already satisfied: pydantic!=1.8,!=1.8.1,<3.0.0,>=1.7.4 in /home/bjpcjp/.local/lib/python3.11/site-packages (from spacy->bert-extractive-summarizer) (2.5.2)\n",
      "Requirement already satisfied: jinja2 in /usr/lib/python3/dist-packages (from spacy->bert-extractive-summarizer) (3.1.2)\n",
      "Requirement already satisfied: setuptools in /usr/lib/python3/dist-packages (from spacy->bert-extractive-summarizer) (68.1.2)\n",
      "Requirement already satisfied: packaging>=20.0 in /usr/lib/python3/dist-packages (from spacy->bert-extractive-summarizer) (23.1)\n",
      "Requirement already satisfied: langcodes<4.0.0,>=3.2.0 in /home/bjpcjp/.local/lib/python3.11/site-packages (from spacy->bert-extractive-summarizer) (3.3.0)\n",
      "Requirement already satisfied: filelock in /home/bjpcjp/.local/lib/python3.11/site-packages (from transformers->bert-extractive-summarizer) (3.13.1)\n",
      "Requirement already satisfied: huggingface-hub<1.0,>=0.19.3 in /home/bjpcjp/.local/lib/python3.11/site-packages (from transformers->bert-extractive-summarizer) (0.21.3)\n",
      "Requirement already satisfied: pyyaml>=5.1 in /usr/lib/python3/dist-packages (from transformers->bert-extractive-summarizer) (6.0.1)\n",
      "Requirement already satisfied: regex!=2019.12.17 in /usr/lib/python3/dist-packages (from transformers->bert-extractive-summarizer) (2022.10.31)\n",
      "Requirement already satisfied: tokenizers<0.19,>=0.14 in /home/bjpcjp/.local/lib/python3.11/site-packages (from transformers->bert-extractive-summarizer) (0.15.2)\n",
      "Requirement already satisfied: safetensors>=0.4.1 in /home/bjpcjp/.local/lib/python3.11/site-packages (from transformers->bert-extractive-summarizer) (0.4.2)\n",
      "Requirement already satisfied: fsspec>=2023.5.0 in /home/bjpcjp/.local/lib/python3.11/site-packages (from huggingface-hub<1.0,>=0.19.3->transformers->bert-extractive-summarizer) (2023.12.0)\n",
      "Requirement already satisfied: typing-extensions>=3.7.4.3 in /home/bjpcjp/.local/lib/python3.11/site-packages (from huggingface-hub<1.0,>=0.19.3->transformers->bert-extractive-summarizer) (4.8.0)\n",
      "Requirement already satisfied: annotated-types>=0.4.0 in /home/bjpcjp/.local/lib/python3.11/site-packages (from pydantic!=1.8,!=1.8.1,<3.0.0,>=1.7.4->spacy->bert-extractive-summarizer) (0.6.0)\n",
      "Requirement already satisfied: pydantic-core==2.14.5 in /home/bjpcjp/.local/lib/python3.11/site-packages (from pydantic!=1.8,!=1.8.1,<3.0.0,>=1.7.4->spacy->bert-extractive-summarizer) (2.14.5)\n",
      "Requirement already satisfied: charset-normalizer<4,>=2 in /home/bjpcjp/.local/lib/python3.11/site-packages (from requests<3.0.0,>=2.13.0->spacy->bert-extractive-summarizer) (3.2.0)\n",
      "Requirement already satisfied: idna<4,>=2.5 in /usr/lib/python3/dist-packages (from requests<3.0.0,>=2.13.0->spacy->bert-extractive-summarizer) (3.3)\n",
      "Requirement already satisfied: urllib3<3,>=1.21.1 in /usr/lib/python3/dist-packages (from requests<3.0.0,>=2.13.0->spacy->bert-extractive-summarizer) (1.26.16)\n",
      "Requirement already satisfied: certifi>=2017.4.17 in /usr/lib/python3/dist-packages (from requests<3.0.0,>=2.13.0->spacy->bert-extractive-summarizer) (2022.9.24)\n",
      "Requirement already satisfied: blis<0.8.0,>=0.7.8 in /home/bjpcjp/.local/lib/python3.11/site-packages (from thinc<8.3.0,>=8.1.8->spacy->bert-extractive-summarizer) (0.7.11)\n",
      "Requirement already satisfied: confection<1.0.0,>=0.0.1 in /home/bjpcjp/.local/lib/python3.11/site-packages (from thinc<8.3.0,>=8.1.8->spacy->bert-extractive-summarizer) (0.1.4)\n",
      "Requirement already satisfied: click<9.0.0,>=7.1.1 in /usr/lib/python3/dist-packages (from typer<0.10.0,>=0.3.0->spacy->bert-extractive-summarizer) (8.1.6)\n",
      "Requirement already satisfied: cloudpathlib<0.17.0,>=0.7.0 in /home/bjpcjp/.local/lib/python3.11/site-packages (from weasel<0.4.0,>=0.1.0->spacy->bert-extractive-summarizer) (0.16.0)\n"
     ]
    }
   ],
   "source": [
    "# https://pypi.org/project/bert-extractive-summarizer/\n",
    "!pip install bert-extractive-summarizer"
   ]
  },
  {
   "cell_type": "code",
   "execution_count": 13,
   "id": "0b5702b4-2136-410a-a7ed-1e49ee929493",
   "metadata": {},
   "outputs": [],
   "source": [
    "# bert extractive summarizer\n",
    "# original: https://www.exxactcorp.com/blog/deep-learning/extractive-summarization-with-llm-using-bert\n",
    "from summarizer import Summarizer"
   ]
  },
  {
   "cell_type": "code",
   "execution_count": 14,
   "id": "ea838fd1-728d-4080-883d-82d28e2ae5f5",
   "metadata": {},
   "outputs": [],
   "source": [
    "'''\n",
    "The Summarizer() function imported from the summarizer in Python is an extractive text summarization tool. \n",
    "It uses the BERT model to analyze and extract key sentences from a larger text. \n",
    "This function aims to retain the most important information, providing a condensed version of the original content. \n",
    "It's commonly used to summarize lengthy documents efficiently.\n",
    "'''\n",
    "model = Summarizer()"
   ]
  },
  {
   "cell_type": "code",
   "execution_count": 15,
   "id": "74559dd4-277d-4df6-a35c-e36dcfd43430",
   "metadata": {},
   "outputs": [],
   "source": [
    "'''\n",
    "Marcus Aurelius, Book I\n",
    "'''\n",
    "text = \"I. Of my grandfather Verus I have learned to be gentle and meek, and to refrain from all anger and passion. \\\n",
    "From the fame and memory of him that begot me I have learned both shamefastness and manlike behaviour. \\\n",
    "Of my mother I have learned to be religious, and bountiful; and to forbear, not only to do, but to intend any evil; \\\n",
    "to content myself with a spare diet, and to fly all such excess as is incidental to great wealth. \\\n",
    "Of my great-grandfather, both to frequent public schools and auditories, and to get me good and able teachers at home; \\\n",
    "and that I ought not to think much, if upon such occasions, I were at excessive charges.\"\n"
   ]
  },
  {
   "cell_type": "code",
   "execution_count": 16,
   "id": "24e677e3-da85-4e86-b28d-057f4ce01f9c",
   "metadata": {},
   "outputs": [
    {
     "name": "stdout",
     "output_type": "stream",
     "text": [
      "I. Of my grandfather Verus I have learned to be gentle and meek, and to refrain from all anger and passion.\n"
     ]
    }
   ],
   "source": [
    "'''\n",
    "Finally, we'll execute our summarization function. It requires two inputs: the text to be summarized and the desired number of sentences \n",
    "for the summary. After processing, it will generate an extractive summary, which we will then display.\n",
    "'''\n",
    "summary = model(text, num_sentences=1) \n",
    "print(summary)"
   ]
  },
  {
   "cell_type": "code",
   "execution_count": 17,
   "id": "f38ee4c3-925b-48f1-82f0-907e90cefab3",
   "metadata": {},
   "outputs": [],
   "source": [
    "'''\n",
    "2nd attempt using Kevin's example.\n",
    "'''\n",
    "text = \"The history of Graphics Processing Units (GPUs) dates back to the early 1980s when companies like IBM and Texas Instruments \\\n",
    "developed specialized graphics accelerators for rendering images and improving overall graphical performance. \\\n",
    "However, it was not until the late 1990s and early 2000s that GPUs gained prominence with the advent of 3D gaming \\\n",
    "and multimedia applications. NVIDIA's GeForce 256, released in 1999, is often considered the first GPU, as it integrated \\\n",
    "both 2D and 3D acceleration on a single chip. ATI (later acquired by AMD) also played a significant role in the development of GPUs during this period.\\\n",
    "The parallel architecture of GPUs, with thousands of cores, allows them to handle multiple computations simultaneously, making them well-suited for \\\n",
    "tasks that require massive parallelism. Today, GPUs have evolved far beyond their original graphics-centric purpose, \\\n",
    "now widely used for parallel processing tasks in various fields, such as scientific simulations, artificial intelligence, \\\n",
    "and machine learning. Industries like finance, healthcare, and automotive engineering leverage GPUs for complex data analysis, \\\n",
    "medical imaging, and autonomous vehicle development, showcasing their versatility beyond traditional graphical applications.\\\n",
    "With advancements in technology, modern GPUs continue to push the boundaries of computational power, enabling breakthroughs in \\\n",
    "diverse fields through parallel computing. GPUs also remain integral to the gaming industry, providing immersive and realistic \\\n",
    "graphics for video games where high-performance GPUs enhance visual experiences and support demanding game graphics. As technology \\\n",
    "progresses, GPUs are expected to play an even more critical role in shaping the future of computing.\""
   ]
  },
  {
   "cell_type": "code",
   "execution_count": 18,
   "id": "3b87aa6c-ccc4-45f4-8a24-0f658a33befc",
   "metadata": {},
   "outputs": [
    {
     "name": "stdout",
     "output_type": "stream",
     "text": [
      "The history of Graphics Processing Units (GPUs) dates back to the early 1980s when companies like IBM and Texas Instruments developed specialized graphics accelerators for rendering images and improving overall graphical performance. NVIDIA's GeForce 256, released in 1999, is often considered the first GPU, as it integrated both 2D and 3D acceleration on a single chip. Today, GPUs have evolved far beyond their original graphics-centric purpose, now widely used for parallel processing tasks in various fields, such as scientific simulations, artificial intelligence, and machine learning. As technology progresses, GPUs are expected to play an even more critical role in shaping the future of computing.\n"
     ]
    },
    {
     "name": "stderr",
     "output_type": "stream",
     "text": [
      "/home/bjpcjp/.local/lib/python3.11/site-packages/sklearn/cluster/_kmeans.py:1416: FutureWarning: The default value of `n_init` will change from 10 to 'auto' in 1.4. Set the value of `n_init` explicitly to suppress the warning\n",
      "  super()._check_params_vs_input(X, default_n_init=10)\n"
     ]
    }
   ],
   "source": [
    "summary = model(text, num_sentences=4) \n",
    "print(summary)"
   ]
  },
  {
   "cell_type": "code",
   "execution_count": null,
   "id": "661b4a2c-31c1-4048-83af-cdb31a1d6d23",
   "metadata": {},
   "outputs": [],
   "source": []
  }
 ],
 "metadata": {
  "kernelspec": {
   "display_name": "Python 3 (ipykernel)",
   "language": "python",
   "name": "python3"
  },
  "language_info": {
   "codemirror_mode": {
    "name": "ipython",
    "version": 3
   },
   "file_extension": ".py",
   "mimetype": "text/x-python",
   "name": "python",
   "nbconvert_exporter": "python",
   "pygments_lexer": "ipython3",
   "version": "3.11.6"
  }
 },
 "nbformat": 4,
 "nbformat_minor": 5
}
